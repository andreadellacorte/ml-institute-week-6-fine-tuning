{
 "cells": [
  {
   "cell_type": "markdown",
   "id": "dfb6cecd",
   "metadata": {},
   "source": [
    "# Exploratory Analysis of the Haiku DPO Dataset\n",
    "\n",
    "This notebook performs exploratory analysis on the Hugging Face dataset [davanstrien/haiku_dpo](https://huggingface.co/datasets/davanstrien/haiku_dpo). We will analyze the 'question' and 'chosen' columns to answer specific questions about the data."
   ]
  },
  {
   "cell_type": "markdown",
   "id": "abe65ed5",
   "metadata": {},
   "source": [
    "## 1. Import Required Libraries\n",
    "Import libraries such as pandas and datasets for data manipulation and analysis."
   ]
  },
  {
   "cell_type": "code",
   "execution_count": 2,
   "id": "f6a8f83a",
   "metadata": {},
   "outputs": [],
   "source": [
    "import pandas as pd\n",
    "from datasets import load_dataset\n",
    "import re\n"
   ]
  },
  {
   "cell_type": "markdown",
   "id": "1dc6a8b9",
   "metadata": {},
   "source": [
    "## 2. Load the Dataset\n",
    "Use the datasets library to load the Hugging Face dataset `davanstrien/haiku_dpo`."
   ]
  },
  {
   "cell_type": "code",
   "execution_count": 3,
   "id": "feeafea2",
   "metadata": {},
   "outputs": [
    {
     "data": {
      "text/html": [
       "<div>\n",
       "<style scoped>\n",
       "    .dataframe tbody tr th:only-of-type {\n",
       "        vertical-align: middle;\n",
       "    }\n",
       "\n",
       "    .dataframe tbody tr th {\n",
       "        vertical-align: top;\n",
       "    }\n",
       "\n",
       "    .dataframe thead th {\n",
       "        text-align: right;\n",
       "    }\n",
       "</style>\n",
       "<table border=\"1\" class=\"dataframe\">\n",
       "  <thead>\n",
       "    <tr style=\"text-align: right;\">\n",
       "      <th></th>\n",
       "      <th>question</th>\n",
       "      <th>generation_model</th>\n",
       "      <th>generation_prompt</th>\n",
       "      <th>generations</th>\n",
       "      <th>scores</th>\n",
       "      <th>chosen</th>\n",
       "      <th>chosen_score</th>\n",
       "      <th>rejected</th>\n",
       "      <th>rejected_score</th>\n",
       "      <th>tie</th>\n",
       "      <th>difference_in_score</th>\n",
       "      <th>system</th>\n",
       "    </tr>\n",
       "  </thead>\n",
       "  <tbody>\n",
       "    <tr>\n",
       "      <th>0</th>\n",
       "      <td>Can you compose a haiku about the serenity of ...</td>\n",
       "      <td>[TheBloke/OpenHermes-2.5-Mistral-7B-AWQ, TheBl...</td>\n",
       "      <td>[&lt;|im_start|&gt;system\\nYou are a poet specialisi...</td>\n",
       "      <td>[Majestic peaks so tall,\\nSilent whispers of t...</td>\n",
       "      <td>[3, 4, 4, 2, 3, 3, 2, 2, 3, 2, 3, 4, 3, 4, 3, ...</td>\n",
       "      <td>Majestic peaks rise,\\nSilent, still, in purest...</td>\n",
       "      <td>4</td>\n",
       "      <td>Majestic peaks soar,\\nSilence speaks, soul at ...</td>\n",
       "      <td>2</td>\n",
       "      <td>False</td>\n",
       "      <td>2</td>\n",
       "      <td>You are a poet specialising in creating Haiku....</td>\n",
       "    </tr>\n",
       "    <tr>\n",
       "      <th>1</th>\n",
       "      <td>Write a haiku that captures the grandeur of mo...</td>\n",
       "      <td>[TheBloke/OpenHermes-2.5-Mistral-7B-AWQ, TheBl...</td>\n",
       "      <td>[&lt;|im_start|&gt;system\\nYou are a poet specialisi...</td>\n",
       "      <td>[Snow-capped peaks so high,\\nSilent, majestic,...</td>\n",
       "      <td>[4, 3, 3, 4, 2, 3, 4, 3, 2, 2, 2, 3, 2, 4, 3, ...</td>\n",
       "      <td>Snow-capped peaks so high,\\nSilent, majestic, ...</td>\n",
       "      <td>4</td>\n",
       "      <td>Majestic mountains rise,\\nPeaks piercing the a...</td>\n",
       "      <td>2</td>\n",
       "      <td>False</td>\n",
       "      <td>2</td>\n",
       "      <td>You are a poet specialising in creating Haiku....</td>\n",
       "    </tr>\n",
       "    <tr>\n",
       "      <th>2</th>\n",
       "      <td>Please create a haiku that describes the solit...</td>\n",
       "      <td>[TheBloke/OpenHermes-2.5-Mistral-7B-AWQ, TheBl...</td>\n",
       "      <td>[&lt;|im_start|&gt;system\\nYou are a poet specialisi...</td>\n",
       "      <td>[Majestic peaks alone,\\nSilence echos in vast ...</td>\n",
       "      <td>[1, 3, 2, 3, 4, 1, 1, 2, 3, 3, 3, 3, 2, 3, 2, ...</td>\n",
       "      <td>Majestic peaks rise,\\nSilence echoes, souls en...</td>\n",
       "      <td>4</td>\n",
       "      <td>Majestic peaks alone,\\nSilent whispers of ston...</td>\n",
       "      <td>1</td>\n",
       "      <td>False</td>\n",
       "      <td>3</td>\n",
       "      <td>You are a poet specialising in creating Haiku....</td>\n",
       "    </tr>\n",
       "    <tr>\n",
       "      <th>3</th>\n",
       "      <td>Can you write a haiku about the mystery of mou...</td>\n",
       "      <td>[TheBloke/OpenHermes-2.5-Mistral-7B-AWQ, TheBl...</td>\n",
       "      <td>[&lt;|im_start|&gt;system\\nYou are a poet specialisi...</td>\n",
       "      <td>[Majestic peaks rise,\\nSilent secrets they hol...</td>\n",
       "      <td>[3, 3, 2, 3, 2, 2, 2, 0, 0, 2, 1, 4, 1, 3, 3, ...</td>\n",
       "      <td>Majestic peaks rise,\\nSecrets hidden in the sn...</td>\n",
       "      <td>4</td>\n",
       "      <td>Majestic peaks, so high,\\nSecrets held in snow...</td>\n",
       "      <td>0</td>\n",
       "      <td>False</td>\n",
       "      <td>4</td>\n",
       "      <td>You are a poet specialising in creating Haiku....</td>\n",
       "    </tr>\n",
       "    <tr>\n",
       "      <th>4</th>\n",
       "      <td>Please create a haiku that portrays the tranqu...</td>\n",
       "      <td>[TheBloke/OpenHermes-2.5-Mistral-7B-AWQ, TheBl...</td>\n",
       "      <td>[&lt;|im_start|&gt;system\\nYou are a poet specialisi...</td>\n",
       "      <td>[Majestic peaks, so high,\\nSilent and still, t...</td>\n",
       "      <td>[3, 2, 3, 3, 4, 3, 3, 4, 2, 4, 4, 3, 3, 3, 2, ...</td>\n",
       "      <td>Snow-capped peaks rise high,\\nSilence whispers...</td>\n",
       "      <td>4</td>\n",
       "      <td>Snow-capped peaks rise high,\\nQuietly standing...</td>\n",
       "      <td>2</td>\n",
       "      <td>False</td>\n",
       "      <td>2</td>\n",
       "      <td>You are a poet specialising in creating Haiku....</td>\n",
       "    </tr>\n",
       "  </tbody>\n",
       "</table>\n",
       "</div>"
      ],
      "text/plain": [
       "                                            question  \\\n",
       "0  Can you compose a haiku about the serenity of ...   \n",
       "1  Write a haiku that captures the grandeur of mo...   \n",
       "2  Please create a haiku that describes the solit...   \n",
       "3  Can you write a haiku about the mystery of mou...   \n",
       "4  Please create a haiku that portrays the tranqu...   \n",
       "\n",
       "                                    generation_model  \\\n",
       "0  [TheBloke/OpenHermes-2.5-Mistral-7B-AWQ, TheBl...   \n",
       "1  [TheBloke/OpenHermes-2.5-Mistral-7B-AWQ, TheBl...   \n",
       "2  [TheBloke/OpenHermes-2.5-Mistral-7B-AWQ, TheBl...   \n",
       "3  [TheBloke/OpenHermes-2.5-Mistral-7B-AWQ, TheBl...   \n",
       "4  [TheBloke/OpenHermes-2.5-Mistral-7B-AWQ, TheBl...   \n",
       "\n",
       "                                   generation_prompt  \\\n",
       "0  [<|im_start|>system\\nYou are a poet specialisi...   \n",
       "1  [<|im_start|>system\\nYou are a poet specialisi...   \n",
       "2  [<|im_start|>system\\nYou are a poet specialisi...   \n",
       "3  [<|im_start|>system\\nYou are a poet specialisi...   \n",
       "4  [<|im_start|>system\\nYou are a poet specialisi...   \n",
       "\n",
       "                                         generations  \\\n",
       "0  [Majestic peaks so tall,\\nSilent whispers of t...   \n",
       "1  [Snow-capped peaks so high,\\nSilent, majestic,...   \n",
       "2  [Majestic peaks alone,\\nSilence echos in vast ...   \n",
       "3  [Majestic peaks rise,\\nSilent secrets they hol...   \n",
       "4  [Majestic peaks, so high,\\nSilent and still, t...   \n",
       "\n",
       "                                              scores  \\\n",
       "0  [3, 4, 4, 2, 3, 3, 2, 2, 3, 2, 3, 4, 3, 4, 3, ...   \n",
       "1  [4, 3, 3, 4, 2, 3, 4, 3, 2, 2, 2, 3, 2, 4, 3, ...   \n",
       "2  [1, 3, 2, 3, 4, 1, 1, 2, 3, 3, 3, 3, 2, 3, 2, ...   \n",
       "3  [3, 3, 2, 3, 2, 2, 2, 0, 0, 2, 1, 4, 1, 3, 3, ...   \n",
       "4  [3, 2, 3, 3, 4, 3, 3, 4, 2, 4, 4, 3, 3, 3, 2, ...   \n",
       "\n",
       "                                              chosen  chosen_score  \\\n",
       "0  Majestic peaks rise,\\nSilent, still, in purest...             4   \n",
       "1  Snow-capped peaks so high,\\nSilent, majestic, ...             4   \n",
       "2  Majestic peaks rise,\\nSilence echoes, souls en...             4   \n",
       "3  Majestic peaks rise,\\nSecrets hidden in the sn...             4   \n",
       "4  Snow-capped peaks rise high,\\nSilence whispers...             4   \n",
       "\n",
       "                                            rejected  rejected_score    tie  \\\n",
       "0  Majestic peaks soar,\\nSilence speaks, soul at ...               2  False   \n",
       "1  Majestic mountains rise,\\nPeaks piercing the a...               2  False   \n",
       "2  Majestic peaks alone,\\nSilent whispers of ston...               1  False   \n",
       "3  Majestic peaks, so high,\\nSecrets held in snow...               0  False   \n",
       "4  Snow-capped peaks rise high,\\nQuietly standing...               2  False   \n",
       "\n",
       "   difference_in_score                                             system  \n",
       "0                    2  You are a poet specialising in creating Haiku....  \n",
       "1                    2  You are a poet specialising in creating Haiku....  \n",
       "2                    3  You are a poet specialising in creating Haiku....  \n",
       "3                    4  You are a poet specialising in creating Haiku....  \n",
       "4                    2  You are a poet specialising in creating Haiku....  "
      ]
     },
     "execution_count": 3,
     "metadata": {},
     "output_type": "execute_result"
    }
   ],
   "source": [
    "# Load the dataset from Hugging Face\n",
    "dataset = load_dataset('davanstrien/haiku_dpo', split='train')\n",
    "df = pd.DataFrame(dataset)\n",
    "df.head()"
   ]
  },
  {
   "cell_type": "markdown",
   "id": "18dd13b7",
   "metadata": {},
   "source": [
    "## 3. Analyze \"question\" Column\n",
    "Perform analysis on the 'question' column to count rows containing 'haiku', 'a haiku', and neither. Provide examples of rows containing neither."
   ]
  },
  {
   "cell_type": "markdown",
   "id": "c63095de",
   "metadata": {},
   "source": [
    "### 4. Count Rows Containing \"haiku\"\n",
    "Filter the dataset to count rows where the 'question' column contains the word 'haiku'."
   ]
  },
  {
   "cell_type": "code",
   "execution_count": 4,
   "id": "10178d9d",
   "metadata": {},
   "outputs": [
    {
     "name": "stdout",
     "output_type": "stream",
     "text": [
      "Rows with 'haiku' in question: 3873\n"
     ]
    }
   ],
   "source": [
    "# Count rows where 'question' contains 'haiku' (case-insensitive)\n",
    "count_haiku = df['question'].str.contains('haiku', case=False, na=False).sum()\n",
    "print(f\"Rows with 'haiku' in question: {count_haiku}\")"
   ]
  },
  {
   "cell_type": "markdown",
   "id": "bda93708",
   "metadata": {},
   "source": [
    "### 5. Count Rows Containing \"a haiku\"\n",
    "Filter the dataset to count rows where the 'question' column contains the phrase 'a haiku'."
   ]
  },
  {
   "cell_type": "code",
   "execution_count": 5,
   "id": "cee33afa",
   "metadata": {},
   "outputs": [
    {
     "name": "stdout",
     "output_type": "stream",
     "text": [
      "Rows with 'a haiku' in question: 3840\n"
     ]
    }
   ],
   "source": [
    "# Count rows where 'question' contains 'a haiku' (case-insensitive)\n",
    "count_a_haiku = df['question'].str.contains('a haiku', case=False, na=False).sum()\n",
    "print(f\"Rows with 'a haiku' in question: {count_a_haiku}\")"
   ]
  },
  {
   "cell_type": "markdown",
   "id": "eef78e1b",
   "metadata": {},
   "source": [
    "### 6. Count Rows Containing Neither \"haiku\" Nor \"a haiku\"\n",
    "Filter the dataset to count rows where the 'question' column contains neither 'haiku' nor 'a haiku'."
   ]
  },
  {
   "cell_type": "code",
   "execution_count": 6,
   "id": "9b3adcbb",
   "metadata": {},
   "outputs": [
    {
     "name": "stdout",
     "output_type": "stream",
     "text": [
      "Rows with neither 'haiku' nor 'a haiku' in question: 250\n"
     ]
    }
   ],
   "source": [
    "# Count rows where 'question' contains neither 'haiku' nor 'a haiku'\n",
    "mask_neither = ~df['question'].str.contains('haiku', case=False, na=False)\n",
    "count_neither = mask_neither.sum()\n",
    "print(f\"Rows with neither 'haiku' nor 'a haiku' in question: {count_neither}\")"
   ]
  },
  {
   "cell_type": "markdown",
   "id": "32c2f34c",
   "metadata": {},
   "source": [
    "### 7. Example Rows Containing Neither\n",
    "Provide example rows from the dataset where the 'question' column contains neither 'haiku' nor 'a haiku'."
   ]
  },
  {
   "cell_type": "code",
   "execution_count": 8,
   "id": "ab109149",
   "metadata": {},
   "outputs": [
    {
     "data": {
      "text/plain": [
       "\"                              question                                                                                  chosen\\n                       I'd like you to           Cherry blossoms dance,\\\\nIn a gentle springtime breeze,\\\\nNature's soft ballet.\\n                                     7           Crisp autumn mornings,\\\\nLeaves fall gently to the ground,\\\\nNature's symphony.\\n                                    I'           Soft wind rustling leaves,\\\\nWhispering secrets untold,\\\\nAutumn's gentle sigh.\\nDescribe the beauty of a falling leaf. Leaf falls gently, twirls\\\\nIn autumn's crisp, cool embrace\\\\nNature's dance, brief spell\\n                                Please     Cherry blossoms bloom,\\\\nSoft petals dance in the breeze,\\\\nSpring's fleeting moment.\""
      ]
     },
     "execution_count": 8,
     "metadata": {},
     "output_type": "execute_result"
    }
   ],
   "source": [
    "# Show example rows where 'question' contains neither 'haiku' nor 'a haiku'\n",
    "examples_neither = df[mask_neither].head(5)\n",
    "examples_neither[['question', 'chosen']].to_string(index=False)"
   ]
  },
  {
   "cell_type": "markdown",
   "id": "bcabf562",
   "metadata": {},
   "source": [
    "## 8. Analyze \"chosen\" Column\n",
    "Perform analysis on the 'chosen' column to identify rows where the chosen haikus are not valid haikus."
   ]
  },
  {
   "cell_type": "markdown",
   "id": "fd19d1f1",
   "metadata": {},
   "source": [
    "### 9. Count Rows Where \"chosen\" Haikus Are Not Haikus\n",
    "Filter the dataset to count rows where the 'chosen' column does not contain valid haikus."
   ]
  },
  {
   "cell_type": "code",
   "execution_count": 9,
   "id": "e169c493",
   "metadata": {},
   "outputs": [
    {
     "name": "stdout",
     "output_type": "stream",
     "text": [
      "Rows where 'chosen' is not a haiku: 1817\n"
     ]
    }
   ],
   "source": [
    "# Define a simple function to check if a text is a haiku (5-7-5 syllable structure)\n",
    "def is_haiku(text):\n",
    "    # Split into lines\n",
    "    lines = [line.strip() for line in text.strip().split('\\n') if line.strip()]\n",
    "    if len(lines) != 3:\n",
    "        return False\n",
    "    # Simple syllable count using vowels (approximate)\n",
    "    def count_syllables(line):\n",
    "        return len(re.findall(r'[aeiouy]+', line.lower()))\n",
    "    syllable_pattern = [5, 7, 5]\n",
    "    return all(abs(count_syllables(line) - target) <= 1 for line, target in zip(lines, syllable_pattern))\n",
    "\n",
    "# Apply to 'chosen' column\n",
    "not_haiku_mask = ~df['chosen'].apply(is_haiku)\n",
    "count_not_haiku = not_haiku_mask.sum()\n",
    "print(f\"Rows where 'chosen' is not a haiku: {count_not_haiku}\")"
   ]
  },
  {
   "cell_type": "markdown",
   "id": "aa7bdad7",
   "metadata": {},
   "source": [
    "### 10. Example Rows Where \"chosen\" Are Not Haikus\n",
    "Provide example rows from the dataset where the 'chosen' column does not contain valid haikus."
   ]
  },
  {
   "cell_type": "code",
   "execution_count": 10,
   "id": "cdce0ebb",
   "metadata": {},
   "outputs": [
    {
     "data": {
      "text/plain": [
       "\"                                                              question                                                                            chosen\\n           Write a haiku that captures the grandeur of mountain peaks.    Snow-capped peaks so high,\\\\nSilent, majestic, standing,\\\\nNature's masterpiece.\\n  Please create a haiku that describes the solitude of mountain peaks.          Majestic peaks rise,\\\\nSilence echoes, souls entwine,\\\\nNature's solitude.\\nPlease create a haiku that portrays the tranquility of mountain peaks.  Snow-capped peaks rise high,\\\\nSilence whispers in the air,\\\\nTranquility thrives.\\n             Can you write a haiku about moss growing on a tree trunk? Moss adheres to bark,\\\\nGrowing slowly with time's grace,\\\\nTree's tale in silence.\\n            Please compose a haiku that captures the serenity of moss.         Gentle moss below,\\\\nSilent whispers in the shade,\\\\nNature's soft embrace.\""
      ]
     },
     "execution_count": 10,
     "metadata": {},
     "output_type": "execute_result"
    }
   ],
   "source": [
    "# Show example rows where 'chosen' is not a haiku\n",
    "examples_not_haiku = df[not_haiku_mask].head(5)\n",
    "examples_not_haiku[['question', 'chosen']].to_string(index=False)"
   ]
  }
 ],
 "metadata": {
  "kernelspec": {
   "display_name": ".venv",
   "language": "python",
   "name": "python3"
  },
  "language_info": {
   "codemirror_mode": {
    "name": "ipython",
    "version": 3
   },
   "file_extension": ".py",
   "mimetype": "text/x-python",
   "name": "python",
   "nbconvert_exporter": "python",
   "pygments_lexer": "ipython3",
   "version": "3.10.12"
  }
 },
 "nbformat": 4,
 "nbformat_minor": 5
}
